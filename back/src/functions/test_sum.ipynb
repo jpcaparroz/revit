{
 "cells": [
  {
   "cell_type": "code",
   "execution_count": null,
   "metadata": {},
   "outputs": [],
   "source": [
    "from ai_summarize import RevitAi\n",
    "\n",
    "\n",
    "text: str = \"\"\"\n",
    "Um computador é uma máquina eletrônica que processa dados, realiza cálculos e executa tarefas complexas rapidamente. Ele é composto por hardware (componentes físicos) e software (programas) que, juntos, permitem manipulação de informações e automação de processos.\n",
    "\"\"\"\n",
    "\n",
    "tests = RevitAi()\n",
    "results = tests.test_summarize(\n",
    "    text\n",
    ")\n",
    "\n",
    "results"
   ]
  },
  {
   "cell_type": "code",
   "execution_count": 1,
   "metadata": {},
   "outputs": [
    {
     "name": "stderr",
     "output_type": "stream",
     "text": [
      "/home/joao-ubuntu/codes/revit/back/src/functions/ai_summarize.py:11: SyntaxWarning: invalid escape sequence '\\s'\n",
      "  WHITESPACE_HANDLER = lambda k: re.sub('\\s+', ' ', re.sub('\\n+', ' ', k.strip()))\n",
      "/home/joao-ubuntu/codes/revit/.venv/lib/python3.12/site-packages/tqdm/auto.py:21: TqdmWarning: IProgress not found. Please update jupyter and ipywidgets. See https://ipywidgets.readthedocs.io/en/stable/user_install.html\n",
      "  from .autonotebook import tqdm as notebook_tqdm\n",
      "2024-11-10 18:51:52.736775: I tensorflow/core/util/port.cc:153] oneDNN custom operations are on. You may see slightly different numerical results due to floating-point round-off errors from different computation orders. To turn them off, set the environment variable `TF_ENABLE_ONEDNN_OPTS=0`.\n",
      "2024-11-10 18:51:52.746871: E external/local_xla/xla/stream_executor/cuda/cuda_fft.cc:477] Unable to register cuFFT factory: Attempting to register factory for plugin cuFFT when one has already been registered\n",
      "WARNING: All log messages before absl::InitializeLog() is called are written to STDERR\n",
      "E0000 00:00:1731275512.760463  308947 cuda_dnn.cc:8310] Unable to register cuDNN factory: Attempting to register factory for plugin cuDNN when one has already been registered\n",
      "E0000 00:00:1731275512.764283  308947 cuda_blas.cc:1418] Unable to register cuBLAS factory: Attempting to register factory for plugin cuBLAS when one has already been registered\n",
      "2024-11-10 18:51:52.776795: I tensorflow/core/platform/cpu_feature_guard.cc:210] This TensorFlow binary is optimized to use available CPU instructions in performance-critical operations.\n",
      "To enable the following instructions: AVX2 AVX512F AVX512_VNNI FMA, in other operations, rebuild TensorFlow with the appropriate compiler flags.\n",
      "You are using the default legacy behaviour of the <class 'transformers.models.t5.tokenization_t5.T5Tokenizer'>. This is expected, and simply means that the `legacy` (previous) behavior will be used so nothing changes for you. If you want to use the new behaviour, set `legacy=False`. This should only be set if you understand what it means, and thoroughly read the reason why this was added as explained in https://github.com/huggingface/transformers/pull/24565\n"
     ]
    },
    {
     "data": {
      "text/plain": [
       "'O jogo League of Legends é um dos mais populares do mundo.'"
      ]
     },
     "execution_count": 1,
     "metadata": {},
     "output_type": "execute_result"
    }
   ],
   "source": [
    "from ai_summarize import RevitAi\n",
    "\n",
    "\n",
    "data: dict = {\n",
    "  \"text\": \"League of Legends é um jogo online de estratégia e ação desenvolvido pela Riot Games, onde duas equipes de cinco jogadores competem para destruir a base adversária. Cada jogador controla um 'campeão' com habilidades únicas e trabalha em equipe para ganhar vantagens no mapa, derrotar oponentes e conquistar objetivos estratégicos. Popular no cenário de eSports, o jogo é conhecido por sua complexidade e alta competitividade.\"\n",
    "}\n",
    "\n",
    "text: str = data.get(\"text\")\n",
    "\n",
    "tests = RevitAi()\n",
    "results = tests.summarize(\n",
    "    text\n",
    ")\n",
    "\n",
    "results"
   ]
  }
 ],
 "metadata": {
  "kernelspec": {
   "display_name": ".venv",
   "language": "python",
   "name": "python3"
  },
  "language_info": {
   "codemirror_mode": {
    "name": "ipython",
    "version": 3
   },
   "file_extension": ".py",
   "mimetype": "text/x-python",
   "name": "python",
   "nbconvert_exporter": "python",
   "pygments_lexer": "ipython3",
   "version": "3.12.3"
  }
 },
 "nbformat": 4,
 "nbformat_minor": 2
}
