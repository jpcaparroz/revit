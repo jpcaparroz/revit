{
 "cells": [
  {
   "cell_type": "code",
   "execution_count": null,
   "metadata": {},
   "outputs": [],
   "source": [
    "from ai_summarize import RevitAi\n",
    "\n",
    "\n",
    "text: str = \"\"\"\n",
    "Um computador é uma máquina eletrônica que processa dados, realiza cálculos e executa tarefas complexas rapidamente. Ele é composto por hardware (componentes físicos) e software (programas) que, juntos, permitem manipulação de informações e automação de processos.\n",
    "\"\"\"\n",
    "\n",
    "tests = RevitAi()\n",
    "results = tests.test_summarize(\n",
    "    text\n",
    ")\n",
    "\n",
    "results"
   ]
  },
  {
   "cell_type": "code",
   "execution_count": null,
   "metadata": {},
   "outputs": [],
   "source": [
    "from ai_summarize import RevitAi\n",
    "\n",
    "\n",
    "data: dict = {\n",
    "  \"text\": \"League of Legends é um jogo online de estratégia e ação desenvolvido pela Riot Games, onde duas equipes de cinco jogadores competem para destruir a base adversária. Cada jogador controla um 'campeão' com habilidades únicas e trabalha em equipe para ganhar vantagens no mapa, derrotar oponentes e conquistar objetivos estratégicos. Popular no cenário de eSports, o jogo é conhecido por sua complexidade e alta competitividade.\"\n",
    "}\n",
    "\n",
    "text: str = data.get(\"text\")\n",
    "\n",
    "tests = RevitAi()\n",
    "results = tests.summarize(\n",
    "    text\n",
    ")\n",
    "\n",
    "results"
   ]
  },
  {
   "cell_type": "code",
   "execution_count": 4,
   "metadata": {},
   "outputs": [
    {
     "data": {
      "text/plain": [
       "'A capital britânica, Londres, é uma cidade inteligente.'"
      ]
     },
     "execution_count": 4,
     "metadata": {},
     "output_type": "execute_result"
    }
   ],
   "source": [
    "\n",
    "import re\n",
    "\n",
    "from transformers import AutoModelForSeq2SeqLM\n",
    "from transformers import T5Tokenizer\n",
    "\n",
    "\n",
    "MODEL_NAME: str = \"csebuetnlp/mT5_multilingual_XLSum\"\n",
    "WHITESPACE_HANDLER = lambda k: re.sub(r'\\s+', ' ', re.sub('\\n+', ' ', k.strip()))\n",
    "\n",
    "class RevitAi:\n",
    "    \n",
    "    model = AutoModelForSeq2SeqLM.from_pretrained(MODEL_NAME)\n",
    "    tokenizer = T5Tokenizer.from_pretrained(MODEL_NAME)\n",
    "\n",
    "\n",
    "\n",
    "    def chunk_text(self, text: str):\n",
    "        # Se a quantidade de texto for muito grande, vamos tentar dividi-la por seções ou parágrafos\n",
    "        paragraphs = text.split('\\n')  # Dividindo por parágrafos\n",
    "\n",
    "        chunk_size = 0\n",
    "        chunks = []\n",
    "        current_chunk = []\n",
    "\n",
    "        for paragraph in paragraphs:\n",
    "            current_chunk.append(paragraph)\n",
    "            chunk_size += len(paragraph)\n",
    "\n",
    "            # Se o tamanho do chunk ultrapassar um limite, armazene o chunk\n",
    "            if chunk_size > 1500:  # Ajuste o limite conforme necessário\n",
    "                chunks.append(\"\\n\".join(current_chunk))\n",
    "                current_chunk = []\n",
    "                chunk_size = 0\n",
    "\n",
    "        # Adiciona o último pedaço se houver\n",
    "        if current_chunk:\n",
    "            chunks.append(\"\\n\".join(current_chunk))\n",
    "\n",
    "        return chunks\n",
    "\n",
    "\n",
    "    def summarize(self, text: str) -> str:\n",
    "        \n",
    "        input_ids = self.tokenizer(\n",
    "            WHITESPACE_HANDLER(text),\n",
    "            return_tensors=\"pt\",\n",
    "            padding=\"max_length\",\n",
    "            truncation=True,\n",
    "            max_length=2048\n",
    "        )[\"input_ids\"]\n",
    "        \n",
    "        output_ids = self.model.generate(\n",
    "            input_ids=input_ids,\n",
    "            max_length=2048,\n",
    "            no_repeat_ngram_size=2,\n",
    "            num_beams=4\n",
    "        )[0]\n",
    "        \n",
    "        summary = self.tokenizer.decode(\n",
    "            output_ids,\n",
    "            skip_special_tokens=True,\n",
    "            clean_up_tokenization_spaces=False\n",
    "        )\n",
    "        \n",
    "        return summary\n",
    "\n",
    "\n",
    "\n",
    "text = \"\"\"\n",
    "Os benefícios de uma cidade inteligente são muitos, incluindo redução de custos, melhora na\n",
    "qualidade de vida, sustentabilidade ambiental e aumento da participação cívica. No entanto, os\n",
    "desafios incluem garantir a segurança de dados, privacidade e reduzir desigualdades digitais.\n",
    "\"\"\"\n",
    "\n",
    "test = RevitAi()\n",
    "test.summarize(text)"
   ]
  }
 ],
 "metadata": {
  "kernelspec": {
   "display_name": ".venv",
   "language": "python",
   "name": "python3"
  },
  "language_info": {
   "codemirror_mode": {
    "name": "ipython",
    "version": 3
   },
   "file_extension": ".py",
   "mimetype": "text/x-python",
   "name": "python",
   "nbconvert_exporter": "python",
   "pygments_lexer": "ipython3",
   "version": "3.12.3"
  }
 },
 "nbformat": 4,
 "nbformat_minor": 2
}
