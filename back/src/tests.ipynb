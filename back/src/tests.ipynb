{
 "cells": [
  {
   "cell_type": "code",
   "execution_count": null,
   "metadata": {},
   "outputs": [],
   "source": [
    "Uma cidade inteligente é a chave para o crescimento econômico de cidades com tecnologias mais avançadas do mundo, segundo um estudo publicado na revista especializada Economist. Centenas de cidades em todo o mundo estão usando tecnologia para monitorar e gerenciar recursos como energia, água, petróleo, combustível fóssil, gases lacrimogêneos ou gás natural. O Fundo das Nações Unidas para o Meio Ambiente lançou uma campanha para combater os efeitos ambientais da pandemia de covid-19 no Brasil. O projeto é lançado em dezembro deste ano. O uso de novas tecnologias para combater o aquecimento global pode ajudar a reduzir as emissões de gases poluentes em áreas afetadas pela crise econômica do país. O governo britânico anunciou nesta segunda-feira que vai investir US$ 1 bilhão (cerca de R$ 2 milhões) em tecnologias que permitem a produção de energia e o consumo de combustíveis fósseis. O uso de câmeras com reconhecimento facial e monitoramento em tempo real é um dos principais desafios para a segurança pública no Brasil, segundo o Instituto Nacional de Segurança Pública. O governo brasileiro lançou uma série de medidas para reduzir o impacto da pandemia de coronavírus na população e evitar a propagação do vírus covid-19 no país. A internet é um recurso que pode ajudar os moradores a resolver problemas urbanos em cidades e serviços públicos usando plataformas de computadores para responder às demandas. O governo brasileiro lançou uma campanha para estimular o desenvolvimento de novos sistemas de transporte e acesso às pessoas em cidades com altos índices de pobreza. O desenvolvimento de smart cities é um dos principais desafios para a economia mundial, com o objetivo de criar novas áreas urbanas mais inteligentes e mais inovadoras. O governo americano lançou o primeiro modelo de sistema de computadores do mundo, com a ajuda de um sistema móvel que permite que os usuários tenham seus dados acessados."
   ]
  },
  {
   "cell_type": "code",
   "execution_count": 10,
   "metadata": {},
   "outputs": [
    {
     "data": {
      "text/plain": [
       "'Ola, teste. Testes 2 teste final'"
      ]
     },
     "execution_count": 10,
     "metadata": {},
     "output_type": "execute_result"
    }
   ],
   "source": [
    "summaries = [\n",
    "    \"Ola, teste.\",\n",
    "    \"Testes 2\",\n",
    "    \"teste final\"\n",
    "]\n",
    "\n",
    "abc = \" \".join(summaries)\n",
    "\n",
    "abc"
   ]
  },
  {
   "cell_type": "code",
   "execution_count": 8,
   "metadata": {},
   "outputs": [
    {
     "data": {
      "text/plain": [
       "' '"
      ]
     },
     "execution_count": 8,
     "metadata": {},
     "output_type": "execute_result"
    }
   ],
   "source": [
    "import re\n",
    "\n",
    "WHITESPACE_HANDLER = lambda k: re.sub(r'\\s+', ' ', re.sub('\\n+', ' ', k.strip()))\n",
    "\n",
    "gpt = { \n",
    "  \"pergunta\": \"O que é uma smart citie?\",\n",
    "  \"resposta\": \"Uma smart city, ou cidade inteligente, é um conceito que integra tecnologias avançadas, dados e conectividade para otimizar a gestão urbana, melhorar a qualidade de vida dos cidadãos e promover a sustentabilidade. Essas cidades utilizam sensores, dispositivos IoT (Internet das Coisas) e sistemas de coleta e análise de dados em tempo real para monitorar e gerenciar recursos como energia, água, transporte, segurança e resíduos. \\n\\nO objetivo principal é criar ambientes urbanos mais eficientes, confortáveis e seguros, oferecendo soluções que atendam às necessidades dos moradores e minimizem os impactos ambientais. Por exemplo, sistemas de transporte inteligente podem reduzir o tempo de deslocamento e a emissão de gases poluentes por meio do monitoramento de tráfego e da adaptação dinâmica de semáforos. \\n\\nAlém disso, a gestão de energia em uma smart city pode envolver o uso de redes elétricas inteligentes (smart grids) que equilibram a demanda e fornecimento de energia, integrando fontes renováveis como solar e eólica. Na área de segurança, câmeras com reconhecimento facial e monitoramento em tempo real podem aumentar a vigilância e responder rapidamente a incidentes. \\n\\nOutro aspecto importante é a participação cidadã, já que as tecnologias digitais permitem maior interação entre governo e população. Plataformas online podem ser usadas para relatar problemas urbanos, acessar serviços públicos ou participar de decisões municipais. \\n\\nAs cidades inteligentes também incentivam a inclusão social, facilitando o acesso à educação, saúde e outros serviços essenciais para populações vulneráveis. Exemplos de smart cities em desenvolvimento incluem Singapura, Barcelona e Amsterdã, que têm implementado iniciativas inovadoras em diversas áreas urbanas. Apesar dos benefícios, desafios como segurança de dados, privacidade e custo de implementação ainda precisam ser enfrentados para expandir esse modelo.\"\n",
    "}\n",
    "\n",
    "text = WHITESPACE_HANDLER(gpt.get(\"resposta\"))\n",
    "\n",
    "result = text.split('. ')\n",
    "final = \"\"\n",
    "\n",
    "for re in result:\n",
    "  final = re.join(\" \")\n",
    "\n",
    "final"
   ]
  },
  {
   "cell_type": "code",
   "execution_count": null,
   "metadata": {},
   "outputs": [],
   "source": [
    "from src.functions.pdf_reader import Pdf\n",
    "\n",
    "pdf = Pdf(file_path=r'./smart-cities.pdf')\n",
    "\n",
    "text = pdf.read_pdf()\n",
    "\n",
    "text"
   ]
  },
  {
   "cell_type": "code",
   "execution_count": null,
   "metadata": {},
   "outputs": [],
   "source": [
    "import re\n",
    "\n",
    "WHITESPACE_HANDLER = lambda k: re.sub(r'\\s+', ' ', re.sub('\\n+', ' ', k.strip()))\n",
    "\n",
    "[WHITESPACE_HANDLER(text)]"
   ]
  },
  {
   "cell_type": "code",
   "execution_count": null,
   "metadata": {},
   "outputs": [],
   "source": [
    "ARTICLE_PT = \"\"\" \n",
    "1. Workflow Sequencial\n",
    "\n",
    "Esse é o template de workflow mais simples, porque organiza as atividades em uma sequência linear, direcionada sempre à etapa da frente. Não há volta às etapas anteriores. Existe um início e um fim na execução do trabalho. Cada etapa depende da conclusão da anterior para iniciar.\n",
    "\n",
    "É o tipo de workflow que apresentamos acima, com o exemplo do processo de marketing, que ia da definição da keyword até o monitoramento dos resultados.\n",
    "\n",
    "É muito comum também na organização de processos comerciais, em que o setor avança o lead pelas fases do pipeline de vendas.\n",
    "\n",
    "Outro setor que pode aproveitar esse tipo de estratégia é o RH que controla as fases de onboarding dos colaboradores. \n",
    "\"\"\"\n",
    "\n",
    "ARTICLE_EN = \"\"\" \n",
    "A computer is a machine that can be programmed to automatically carry out sequences of arithmetic or logical operations (computation). Modern digital electronic computers can perform generic sets of operations known as programs. These programs enable computers to perform a wide range of tasks. The term computer system may refer to a nominally complete computer that includes the hardware, operating system, software, and peripheral equipment needed and used for full operation; or to a group of computers that are linked and function together, such as a computer network or computer cluster. \n",
    "\"\"\" \n",
    "\n"
   ]
  },
  {
   "cell_type": "code",
   "execution_count": null,
   "metadata": {},
   "outputs": [],
   "source": [
    "import sys\n",
    "import os\n",
    "import re\n",
    "\n",
    "from transformers import pipeline\n",
    "\n",
    "\n",
    "# MODEL_NAME: str = \"unicamp-dl/ptt5-base-portuguese-vocab\"\n",
    "MODEL_NAME: str = \"csebuetnlp/mT5_multilingual_XLSum\"\n",
    "WHITESPACE_HANDLER = lambda k: re.sub(r'\\s+', ' ', re.sub('\\n+', ' ', k.strip()))\n",
    "\n",
    "class RevitAi:\n",
    "    \n",
    "    def __init__(self):\n",
    "        \"\"\"\n",
    "        Inicializa o pipeline de resumo usando o Hugging Face.\n",
    "        \"\"\"\n",
    "        self.summarizer = pipeline(\"summarization\", model=MODEL_NAME, device=0)\n",
    "\n",
    "\n",
    "    def split_text(self, text, chunk_size=512):\n",
    "        \"\"\"\n",
    "        Divide o texto em partes menores para respeitar o limite de tokens do modelo.\n",
    "        \"\"\"\n",
    "        return [text[i:i+chunk_size] for i in range(0, len(text), chunk_size)]\n",
    "\n",
    "\n",
    "    def summarize(self, text: str) -> str:\n",
    "        \"\"\"\n",
    "        Gera um resumo para o texto fornecido.\n",
    "        \"\"\"\n",
    "        result = self.summarizer(text, max_length=130, min_length=50, do_sample=False)\n",
    "        return result[0][\"summary_text\"]\n",
    "    \n",
    "    \n",
    "    def main(self, text: str):\n",
    "        chunks = self.split_text(text)\n",
    "        summaries = [self.summarize(chunk) for chunk in chunks]\n",
    "        final_summary = \" \".join(summaries)\n",
    "        \n",
    "        return final_summary\n",
    "        \n",
    "    \n",
    "test = RevitAi()\n",
    "oi = test.summarize(ARTICLE_PT)\n",
    "oi\n",
    "\n"
   ]
  }
 ],
 "metadata": {
  "kernelspec": {
   "display_name": ".venv",
   "language": "python",
   "name": "python3"
  },
  "language_info": {
   "codemirror_mode": {
    "name": "ipython",
    "version": 3
   },
   "file_extension": ".py",
   "mimetype": "text/x-python",
   "name": "python",
   "nbconvert_exporter": "python",
   "pygments_lexer": "ipython3",
   "version": "3.12.2"
  }
 },
 "nbformat": 4,
 "nbformat_minor": 2
}
